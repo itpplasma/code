{
 "cells": [
  {
   "cell_type": "code",
   "execution_count": null,
   "metadata": {},
   "outputs": [],
   "source": [
    "import os\n",
    "import sys\n",
    "import f90nml\n",
    "import netCDF4 as nc\n",
    "import numpy as np\n",
    "import matplotlib.pyplot as plt\n",
    "\n",
    "cwd = os.getcwd()\n",
    "sys.path.append(os.path.expandvars(\"$CODE/NEO-RT/python\"))\n",
    "sys.path.append(os.path.expandvars(\"$CODE/NEO-2/PythonScripts\"))\n",
    "\n",
    "surfs = np.arange(0.78, 1.00, 0.02)\n",
    "runs = [f\"{surf:.2f}\".replace(\".\", \"p\") for surf in surfs]\n",
    "\n",
    "run_dir = os.path.join(os.path.expandvars(\"$CODE/tests/NEO-RT/benchmark_with_NEO_2/RUN\"))\n",
    "if os.path.isdir(run_dir):\n",
    "    os.system(f'rm -r {run_dir}')\n",
    "os.makedirs(run_dir)"
   ]
  },
  {
   "cell_type": "code",
   "execution_count": null,
   "metadata": {},
   "outputs": [],
   "source": [
    "## Generate torque runs\n",
    "template = f90nml.read('neort_torque.in.template')\n",
    "for run in runs:\n",
    "    nml = template\n",
    "    s = float(run.replace('p', '.'))\n",
    "    nml['params']['s'] = s\n",
    "    nml.write(os.path.join(run_dir,f'torque{run}.in'), force=True)"
   ]
  },
  {
   "cell_type": "code",
   "execution_count": null,
   "metadata": {},
   "outputs": [],
   "source": [
    "## Load NEO-2 output\n",
    "\n",
    "neo2_dir = os.path.expandvars('$DATA/DEMO/NEO-2/rerun_DEMO_MARS_PERTURBATION_N1_NEGATIVE_new_pert/')\n",
    "neo_input = f90nml.read(os.path.join(neo2_dir, 'neo.in'))\n",
    "neo2_input = f90nml.read(os.path.join(neo2_dir, 'neo2.in'))\n",
    "neo2_output_file = os.path.join(neo2_dir, 'neo2_multispecies_out.h5')\n",
    "neo2_output = nc.Dataset(neo2_output_file)\n"
   ]
  },
  {
   "cell_type": "code",
   "execution_count": null,
   "metadata": {},
   "outputs": [],
   "source": [
    "# Convert NEO-2 profiles and link to magnetic fields\n",
    "from neo_2_profile_to_neo_rt_profile import neo_2_profile_to_neo_rt_profile\n",
    "neo2_profiles_file = os.path.join(neo2_dir, 'multi_spec_demo.in')\n",
    "os.chdir(run_dir)\n",
    "neo_2_profile_to_neo_rt_profile(\n",
    "        neo2_profiles_file, neo2_output_file, s_min=0.01, s_max=0.972, number_s_points=32)\n",
    "axisymmetric = os.path.join(neo2_dir, 'axi.bc')\n",
    "os.system(f'ln -fs {axisymmetric} in_file')\n",
    "pert = os.path.join(neo2_dir, 'pert.bc')\n",
    "os.system(f'ln -fs {pert} in_file_pert')\n",
    "os.chdir(cwd)"
   ]
  },
  {
   "cell_type": "code",
   "execution_count": null,
   "metadata": {},
   "outputs": [],
   "source": [
    "## Start torque runs\n",
    "\n",
    "neort_exe = os.path.expandvars(\"$CODE/NEO-RT/build/neo_rt.x\")\n",
    "os.chdir(run_dir)\n",
    "for run in runs:\n",
    "    os.system(f'{neort_exe} torque{run}')\n",
    "os.chdir(cwd)"
   ]
  },
  {
   "cell_type": "code",
   "execution_count": null,
   "metadata": {},
   "outputs": [],
   "source": [
    "## Load and plot output for ion NTV torque density for NEO-RT and NEO-2\n",
    "\n",
    "from util import load_torque\n",
    "\n",
    "NM_IN_DYNCM = 1e-7\n",
    "CM3_IN_M3 = 1e-6\n",
    "TORQUE_DENSITY_CGS_TO_SI = NM_IN_DYNCM/CM3_IN_M3  # dyn*cm/cm^3 to Nm/m^3\n",
    "\n",
    "neort = []\n",
    "for run in runs:\n",
    "    neort.append(load_torque(os.path.join(run_dir,f'torque{run}'), neo2_output))\n",
    "\n",
    "Tphi_neort = np.array([v['Tphi'] for v in neort])\n",
    "dVds = np.array([v['dVds'] for v in neort])\n",
    "\n",
    "\n",
    "Tphi_neo2 = neo2_output['TphiNA_spec'][:,1]*TORQUE_DENSITY_CGS_TO_SI\n",
    "s_neort = np.array([v['s'] for v in neort])\n",
    "s_neo2 = neo2_output['boozer_s'][:]\n",
    "\n",
    "plt.figure(figsize=(12,6))\n",
    "plt.plot(s_neo2, Tphi_neo2, label='NEO-2')\n",
    "plt.plot(s_neort, Tphi_neort, 'x', label='NEO-RT')\n",
    "plt.yscale('symlog', linthresh=1e-10)\n",
    "plt.xlabel('Normalized toroidal flux s_tor')\n",
    "plt.ylabel('Tphi [Nm/m^3]')\n",
    "plt.legend()\n",
    "plt.title('Ion NTV torque density Tphi')\n",
    "plt.savefig('Tphi_comparison.png')"
   ]
  },
  {
   "cell_type": "code",
   "execution_count": null,
   "metadata": {},
   "outputs": [],
   "source": [
    "## Generate transport runs\n",
    "\n",
    "template = f90nml.read('neort_transport.in.template')\n",
    "for run in runs:\n",
    "    nml = template\n",
    "    s = float(run.replace('p', '.'))\n",
    "    nml['params']['s'] = s\n",
    "    nml.write(os.path.join(run_dir,f'transport{run}.in'), force=True)"
   ]
  },
  {
   "cell_type": "code",
   "execution_count": null,
   "metadata": {},
   "outputs": [],
   "source": [
    "## Start transport runs\n",
    "\n",
    "neort_exe = os.path.expandvars(\"$CODE/NEO-RT/build/neo_rt.x\")\n",
    "os.chdir(run_dir)\n",
    "for run in runs:\n",
    "    os.system(f'{neort_exe} transport{run}')\n",
    "os.chdir(cwd)"
   ]
  },
  {
   "cell_type": "code",
   "execution_count": null,
   "metadata": {},
   "outputs": [],
   "source": [
    "## Load NEO-RT output for non-axisymmetric ion transport coefficient D11_NA\n",
    "\n",
    "from util import load_transport\n",
    "\n",
    "neort = []\n",
    "for run in runs:\n",
    "    neort.append(load_transport(os.path.join(run_dir,f'transport{run}'), neo2_output))\n",
    "\n",
    "s_neort = np.array([v['s'] for v in neort])\n",
    "D11_neort = np.array([v['D11'] for v in neort])\n",
    "s_neo2 = neo2_output['boozer_s'][:]\n",
    "D11_neo2_ion = neo2_output['D11_NA'][:][:,3]\n",
    "\n",
    "plt.figure(figsize=(12,6))\n",
    "plt.plot(s_neo2, D11_neo2_ion, label='NEO-2')\n",
    "plt.plot(s_neort, D11_neort, 'x', label='NEO-RT')\n",
    "plt.yscale('symlog', linthresh=1e-10)\n",
    "plt.xlabel('Normalized toroidal flux s_tor')\n",
    "plt.ylabel('D11_NA')\n",
    "plt.legend()\n",
    "plt.title('Non-axisymmetric ion transport coefficient D11_NA')\n",
    "plt.savefig('D11_NA_comparison.png')"
   ]
  },
  {
   "cell_type": "code",
   "execution_count": null,
   "metadata": {},
   "outputs": [],
   "source": [
    "# Prepare resline test\n",
    "template = f90nml.read('neort_resline.in.template')\n",
    "template.write(os.path.join(run_dir,f'resline.in'), force=True)"
   ]
  },
  {
   "cell_type": "code",
   "execution_count": null,
   "metadata": {},
   "outputs": [],
   "source": [
    "# Run resline test\n",
    "neort_exe = os.path.expandvars(\"$CODE/NEO-RT/build/neo_rt.x\")\n",
    "os.chdir(run_dir)\n",
    "os.system(f'{neort_exe} resline')\n",
    "os.chdir(cwd)"
   ]
  },
  {
   "cell_type": "code",
   "execution_count": null,
   "metadata": {},
   "outputs": [],
   "source": [
    "data = np.loadtxt(os.path.join(run_dir,'resline_resline_pct.out'))\n",
    "\n",
    "v_ov_vth = data[:,0]\n",
    "branch_index = data[:,1].astype(int)\n",
    "eta_res = data[:,2]\n",
    "eta_0 = data[:,3][0]\n",
    "eta_1 = data[:,4][0]\n",
    "\n",
    "plt.figure()\n",
    "for i in range(1, max(branch_index)+1):\n",
    "    plt.plot(v_ov_vth[branch_index==i],\n",
    "             eta_res[branch_index==i], label='branch %d' % i)\n",
    "plt.plot([0.0, max(data[:,0])], [eta_0, eta_0], '--',\n",
    "    label='lower eta boundary')\n",
    "plt.plot([0.0, max(data[:,0])], [eta_1, eta_1], '--',\n",
    "    label='upper eta boundary')\n",
    "plt.xlabel('Normalized velocity v/v_th')\n",
    "plt.ylabel('Normalized magnetic moment eta')\n",
    "plt.legend()\n",
    "plt.title('Phase-space resonance (example)')"
   ]
  },
  {
   "cell_type": "code",
   "execution_count": null,
   "metadata": {},
   "outputs": [],
   "source": []
  }
 ],
 "metadata": {
  "kernelspec": {
   "display_name": ".venv",
   "language": "python",
   "name": "python3"
  },
  "language_info": {
   "codemirror_mode": {
    "name": "ipython",
    "version": 3
   },
   "file_extension": ".py",
   "mimetype": "text/x-python",
   "name": "python",
   "nbconvert_exporter": "python",
   "pygments_lexer": "ipython3",
   "version": "3.11.2"
  }
 },
 "nbformat": 4,
 "nbformat_minor": 2
}
